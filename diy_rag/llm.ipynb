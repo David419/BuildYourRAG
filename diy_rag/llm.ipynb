{
 "cells": [
  {
   "cell_type": "markdown",
   "id": "4fb7822d-f149-4a53-97b7-318e980b0670",
   "metadata": {},
   "source": [
    "## 加载LLM模型"
   ]
  },
  {
   "cell_type": "code",
   "execution_count": null,
   "id": "0b99651a-9a56-4041-a533-89205ddee28c",
   "metadata": {},
   "outputs": [],
   "source": [
    "from modelscope import AutoModelForCausalLM, AutoTokenizer\n",
    "if torch.cuda.is_available():\n",
    "    device = torch.device('cuda')\n",
    "    print('llm using cuda')\n",
    "else:\n",
    "    device = torch.device('cpu')  \n",
    "    print('llm using cpu')  \n",
    "\n",
    "llm_model = AutoModelForCausalLM.from_pretrained(\n",
    "    \"qwen/Qwen1.5-4B-Chat\",\n",
    "    device_map=\"auto\"\n",
    ").to(device)\n",
    "tokenizer = AutoTokenizer.from_pretrained(\"qwen/Qwen1.5-4B-Chat\")\n"
   ]
  },
  {
   "cell_type": "markdown",
   "id": "67e145e8-d28c-4c64-96b7-fcd0701e40b8",
   "metadata": {},
   "source": [
    "## 调用LLM模型"
   ]
  },
  {
   "cell_type": "code",
   "execution_count": null,
   "id": "d067632e-b1f6-4c48-b2cc-ed0d5ee1474a",
   "metadata": {},
   "outputs": [],
   "source": [
    "prompt = \"请根据以下背景来回答问题：上海有什么特色小吃？\\n背景：上海的特色小吃有麻辣烫和糖葫芦。武汉的特色小吃有热干面，烤鸭\"\n",
    "messages = [\n",
    "    {\"role\": \"system\", \"content\": \"You are a helpful assistant.\"},\n",
    "    {\"role\": \"user\", \"content\": prompt}\n",
    "]\n",
    "text = tokenizer.apply_chat_template(\n",
    "    messages,\n",
    "    tokenize=False,\n",
    "    add_generation_prompt=True\n",
    ")\n",
    "print('增加模板后的输入:', text)\n",
    "\n",
    "model_inputs = tokenizer([text], return_tensors=\"pt\").to(device)\n",
    "print('tokenizer后的模型输入:', model_inputs)\n",
    "\n",
    "# 模型计算并输出\n",
    "generated_ids = model.generate(\n",
    "    model_inputs.input_ids,\n",
    "    max_new_tokens=512)\n",
    "generated_ids = [\n",
    "    output_ids[len(input_ids):] for input_ids, output_ids in zip(model_inputs.input_ids, generated_ids)]\n",
    "\n",
    "response = tokenizer.batch_decode(generated_ids, skip_special_tokens=True)[0]  # 提取输出结果\n",
    "print('模型返回结果:', response)"
   ]
  },
  {
   "cell_type": "code",
   "execution_count": null,
   "id": "54944ce6-2d67-40d9-b943-caa0ade727ad",
   "metadata": {},
   "outputs": [],
   "source": []
  }
 ],
 "metadata": {
  "kernelspec": {
   "display_name": "rag",
   "language": "python",
   "name": "rag"
  },
  "language_info": {
   "codemirror_mode": {
    "name": "ipython",
    "version": 3
   },
   "file_extension": ".py",
   "mimetype": "text/x-python",
   "name": "python",
   "nbconvert_exporter": "python",
   "pygments_lexer": "ipython3",
   "version": "3.8.12"
  }
 },
 "nbformat": 4,
 "nbformat_minor": 5
}
