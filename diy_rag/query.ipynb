{
 "cells": [
  {
   "cell_type": "code",
   "execution_count": 2,
   "id": "e61d1e7e-23a8-468b-b041-1bc2eb88eda7",
   "metadata": {},
   "outputs": [
    {
     "name": "stderr",
     "output_type": "stream",
     "text": [
      "Loading checkpoint shards: 100%|██████████| 2/2 [00:02<00:00,  1.30s/it]\n",
      "Special tokens have been added in the vocabulary, make sure the associated word embeddings are fine-tuned or trained.\n"
     ]
    }
   ],
   "source": [
    "from my_rag import MyRag\n",
    "my_rag = MyRag(db_path='./news_db', db_name='news', embedding_path='embedding_model/bge-base-zh-v1_5')"
   ]
  },
  {
   "cell_type": "code",
   "execution_count": 3,
   "id": "8b7b4558-16e2-401c-adba-3da976a62574",
   "metadata": {},
   "outputs": [
    {
     "name": "stdout",
     "output_type": "stream",
     "text": [
      "根据《关于组织开展移动互联网应用程序备案工作的通知》，从9月起组织开展APP备案工作。在10个月的备案过渡期后，网络接入服务提供者、应用分发平台、智能终端生产企业不得为未履行备案手续的APP提供网络接入、分发、预置等服务。\n"
     ]
    }
   ],
   "source": [
    "query = 'APP的过渡期是多久'\n",
    "print(my_rag.get_response(single_query=query))"
   ]
  },
  {
   "cell_type": "code",
   "execution_count": null,
   "id": "68e978fb-7048-4f2a-bffe-b2a19d2c2f78",
   "metadata": {},
   "outputs": [],
   "source": []
  }
 ],
 "metadata": {
  "kernelspec": {
   "display_name": "rag",
   "language": "python",
   "name": "rag"
  },
  "language_info": {
   "codemirror_mode": {
    "name": "ipython",
    "version": 3
   },
   "file_extension": ".py",
   "mimetype": "text/x-python",
   "name": "python",
   "nbconvert_exporter": "python",
   "pygments_lexer": "ipython3",
   "version": "3.8.12"
  }
 },
 "nbformat": 4,
 "nbformat_minor": 5
}
